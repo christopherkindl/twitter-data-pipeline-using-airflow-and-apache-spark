{
 "cells": [
  {
   "cell_type": "code",
   "execution_count": null,
   "metadata": {},
   "outputs": [],
   "source": [
    "import twint\n",
    "import numpy as np\n",
    "import pandas as pd\n",
    "\n",
    "\n",
    "def lambda_handler():\n",
    "    \n",
    "    # fetch tweets that contain 'data science'\n",
    "    c = twint.Config()\n",
    "\n",
    "    df_total = pd.DataFrame(columns=['id', 'tweet'])\n",
    "\n",
    "    for index in range(len(stations[:5])):\n",
    "\n",
    "        # limit tweets to 20 (1 unit represents 20 tweets)\n",
    "        c.Limit = 2\n",
    "\n",
    "        # hide console output\n",
    "        c.Hide_output = True\n",
    "\n",
    "        # only scrape text tweets\n",
    "        c.Images = False\n",
    "        c.Videos = False\n",
    "\n",
    "        # scrape tweets from a radius of 1km around a place in Paris\n",
    "        c.Geo= str(stations['Latitude'][index])+','+str(stations['Longitude'][index])+', 2km'\n",
    "\n",
    "        # only scrape English tweets\n",
    "        c.Lang = \"en\"\n",
    "\n",
    "        # only tweets since last week\n",
    "        c.Since = '2020-08-01'\n",
    "\n",
    "        # save to df\n",
    "        c.Pandas = True\n",
    "\n",
    "        # run\n",
    "        twint.run.Search(c)\n",
    "\n",
    "        # create dataframe and assign to total dataframe\n",
    "        df = twint.storage.panda.Tweets_df[[\"id\", \"tweet\"]]\n",
    "\n",
    "        print(len(twint.storage.panda.Tweets_df))\n",
    "\n",
    "        df_total = df_total.append(df)\n",
    "\n",
    "        print('Scraped tweets around '+str(stations['Station'][index]))"
   ]
  }
 ],
 "metadata": {
  "kernelspec": {
   "display_name": "Python 3",
   "language": "python",
   "name": "python3"
  },
  "language_info": {
   "codemirror_mode": {
    "name": "ipython",
    "version": 3
   },
   "file_extension": ".py",
   "mimetype": "text/x-python",
   "name": "python",
   "nbconvert_exporter": "python",
   "pygments_lexer": "ipython3",
   "version": "3.8.3"
  }
 },
 "nbformat": 4,
 "nbformat_minor": 4
}
