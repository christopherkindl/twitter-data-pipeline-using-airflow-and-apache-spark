{
 "cells": [
  {
   "cell_type": "code",
   "execution_count": 18,
   "metadata": {},
   "outputs": [
    {
     "name": "stdout",
     "output_type": "stream",
     "text": [
      "Collecting emoji\n",
      "  Downloading emoji-1.2.0-py3-none-any.whl (131 kB)\n",
      "\u001b[K     |████████████████████████████████| 131 kB 3.8 MB/s eta 0:00:01\n",
      "\u001b[?25hInstalling collected packages: emoji\n",
      "Successfully installed emoji-1.2.0\n",
      "\u001b[33mWARNING: You are using pip version 20.2.4; however, version 21.1 is available.\n",
      "You should consider upgrading via the '/Users/christopherkindl/opt/anaconda3/bin/python -m pip install --upgrade pip' command.\u001b[0m\n"
     ]
    }
   ],
   "source": [
    "!pip install emoji"
   ]
  },
  {
   "cell_type": "code",
   "execution_count": 64,
   "metadata": {},
   "outputs": [],
   "source": [
    "# import pyspark modules\n",
    "from pyspark.sql import SparkSession\n",
    "from pyspark.sql.functions import udf, lower, col, regexp_replace\n",
    "from pyspark.ml.feature import Tokenizer, StopWordsRemover\n",
    "from nltk.stem.snowball import SnowballStemmer\n",
    "from pyspark.sql.types import StructType, ArrayType, StringType\n",
    "#import emoji #requires pip install"
   ]
  },
  {
   "cell_type": "code",
   "execution_count": 2,
   "metadata": {},
   "outputs": [],
   "source": [
    "# start session\n",
    "spark = SparkSession.builder.appName(\"SentimentAnalysis\").getOrCreate()"
   ]
  },
  {
   "cell_type": "code",
   "execution_count": 81,
   "metadata": {},
   "outputs": [],
   "source": [
    "# read data\n",
    "df_raw = spark.read.option(\"header\", True).csv(\"/Users/christopherkindl/Desktop/twitter_results.csv\")"
   ]
  },
  {
   "cell_type": "code",
   "execution_count": 35,
   "metadata": {},
   "outputs": [],
   "source": [
    "# lowercase text\n",
    "df_raw = df_raw.select(lower(col('tweets')).alias('tweets'))"
   ]
  },
  {
   "cell_type": "code",
   "execution_count": 4,
   "metadata": {},
   "outputs": [],
   "source": [
    "# create rdd \n",
    "df_rdd=df_raw.rdd"
   ]
  },
  {
   "cell_type": "code",
   "execution_count": null,
   "metadata": {},
   "outputs": [],
   "source": [
    "stemmer = SnowballStemmer(language='english')\n",
    "stemmer_udf = udf(lambda tokens: [stemmer.stem(token) for token in tokens], ArrayType(StringType()))\n",
    "df_stemmed = df_clean.withColumn(\"tweets_clean\", stemmer_udf(\"tweets_clean\")).select(\"tweets_clean\", \"date\", \"station\")"
   ]
  },
  {
   "cell_type": "code",
   "execution_count": 83,
   "metadata": {},
   "outputs": [],
   "source": [
    "df_raw.write.mode(\"overwrite\").csv(\"/Users/christopherkindl/working/london-housing-webapp/test-wed.tsv\")"
   ]
  },
  {
   "cell_type": "code",
   "execution_count": 110,
   "metadata": {},
   "outputs": [],
   "source": [
    "\n",
    "df_raw_2 = spark.read.option(\"header\", True).csv(\"/Users/christopherkindl/working/london-housing-webapp/test-wed.tsv\", sep=\"\\t\")"
   ]
  },
  {
   "cell_type": "code",
   "execution_count": 111,
   "metadata": {
    "scrolled": true
   },
   "outputs": [
    {
     "name": "stdout",
     "output_type": "stream",
     "text": [
      "+--------------------+--------------------+-------------------+---------------+\n",
      "|                 _c0|              tweets|               date|        station|\n",
      "+--------------------+--------------------+-------------------+---------------+\n",
      "|                   0|@noordinarypark @...|2021-04-27 07:30:07|     Abbey Road|\n",
      "|                   1|@Clarecurtislino ...|2021-04-26 07:49:34|     Abbey Road|\n",
      "|                   2|In #Newham today,...|2021-04-20 20:15:20|     Abbey Road|\n",
      "|                   3|Just posted a pho...|2021-04-20 07:00:25|     Abbey Wood|\n",
      "|                   4|Walking on the wi...|2021-04-21 16:20:23|  Acton Central|\n",
      "|                   5|Just posted a vid...|2021-04-19 17:03:53|  Acton Central|\n",
      "|                   6|Walking on the wi...|2021-04-21 16:20:23|Acton Main Line|\n",
      "|                   7|\"Click the link i...|2021-04-27 12:33:20|     Acton Town|\n",
      "|                   8|Can you recommend...|2021-04-25 15:43:15|     Acton Town|\n",
      "|                   9|If you're looking...|2021-04-22 12:15:30|     Acton Town|\n",
      "|                  10|You want to work ...|2021-04-20 12:54:59|     Acton Town|\n",
      "|                  11|This is what #daw...|2021-04-20 08:54:44|     Acton Town|\n",
      "|                  12|First time back i...|2021-04-27 11:54:44|        Aldgate|\n",
      "|                  13|St Dunstan-in-the...|2021-04-27 10:12:37|        Aldgate|\n",
      "|                  14|Old meets new in ...|               null|           null|\n",
      "|Viewings are avai...|                null|               null|           null|\n",
      "|https://t.co/NeeW...|                null|               null|           null|\n",
      "|@winkworth_uk #wi...| 2021-04-27 07:56:00|            Aldgate|           null|\n",
      "|                  15|Just posted a pho...|2021-04-26 21:00:11|        Aldgate|\n",
      "|                  16|#motelone #leisur...|2021-04-26 16:38:50|        Aldgate|\n",
      "+--------------------+--------------------+-------------------+---------------+\n",
      "only showing top 20 rows\n",
      "\n"
     ]
    }
   ],
   "source": [
    "df_raw_2.show()"
   ]
  },
  {
   "cell_type": "code",
   "execution_count": 115,
   "metadata": {},
   "outputs": [],
   "source": [
    "#df.to_parquet('/Users/christopherkindl/Desktop/df.parquet.gzip', compression='gzip')\n",
    "input_loc = '/Users/christopherkindl/Desktop/df.parquet.gzip'\n",
    "df_raw_3 = spark.read.option(\"header\", True).parquet(input_loc, compression='gzip')"
   ]
  },
  {
   "cell_type": "code",
   "execution_count": 116,
   "metadata": {},
   "outputs": [
    {
     "name": "stdout",
     "output_type": "stream",
     "text": [
      "+--------------------+-------------------+----------------+\n",
      "|              tweets|               date|         station|\n",
      "+--------------------+-------------------+----------------+\n",
      "|@noordinarypark @...|2021-04-27 08:30:07|      Abbey Road|\n",
      "|@Clarecurtislino ...|2021-04-26 08:49:34|      Abbey Road|\n",
      "|In #Newham today,...|2021-04-20 21:15:20|      Abbey Road|\n",
      "|Just posted a pho...|2021-04-20 08:00:25|      Abbey Wood|\n",
      "|Walking on the wi...|2021-04-21 17:20:23|   Acton Central|\n",
      "|Just posted a vid...|2021-04-19 18:03:53|   Acton Central|\n",
      "|Walking on the wi...|2021-04-21 17:20:23| Acton Main Line|\n",
      "|Click the link in...|2021-04-27 13:33:20|      Acton Town|\n",
      "|Can you recommend...|2021-04-25 16:43:15|      Acton Town|\n",
      "|If you're looking...|2021-04-22 13:15:30|      Acton Town|\n",
      "|You want to work ...|2021-04-20 13:54:59|      Acton Town|\n",
      "|This is what #daw...|2021-04-20 09:54:44|      Acton Town|\n",
      "|First time back i...|2021-04-27 12:54:44|         Aldgate|\n",
      "|St Dunstan-in-the...|2021-04-27 11:12:37|         Aldgate|\n",
      "|Old meets new in ...|2021-04-27 08:56:00|         Aldgate|\n",
      "|Just posted a pho...|2021-04-26 22:00:11|         Aldgate|\n",
      "|#motelone #leisur...|2021-04-26 17:38:50|         Aldgate|\n",
      "|First time back i...|2021-04-27 12:54:44|    Aldgate East|\n",
      "|Old meets new in ...|2021-04-27 08:56:00|    Aldgate East|\n",
      "|#motelone #leisur...|2021-04-26 17:38:50|    Aldgate East|\n",
      "|Watch me enjoy a ...|2021-04-26 16:29:12|    Aldgate East|\n",
      "|this is why i miz...|2021-04-26 15:15:03|    Aldgate East|\n",
      "|@CFCMod_ You have...|2021-04-25 10:03:19|Alexandra Palace|\n",
      "|An eerily quiet K...|2021-04-20 08:35:52|Alexandra Palace|\n",
      "|Just posted a pho...|2021-04-23 23:03:53|      All Saints|\n",
      "+--------------------+-------------------+----------------+\n",
      "only showing top 25 rows\n",
      "\n"
     ]
    }
   ],
   "source": [
    "df_raw_3.show(25)"
   ]
  },
  {
   "cell_type": "code",
   "execution_count": 73,
   "metadata": {},
   "outputs": [],
   "source": [
    "# lowercase text\n",
    "#df_clean = df_raw.select('id', (lower(regexp_replace('text', \"[^a-zA-Z\\\\s]\", \"\")).alias('text')))\n",
    "df_lower = df_raw.select(\"date\", \"station\", (lower(col(\"tweets\")).alias('tweets')))\n",
    "\n",
    "# tokenize text\n",
    "tokenizer = Tokenizer(inputCol=\"tweets\", outputCol=\"tweets_token\")\n",
    "df_tokens = tokenizer.transform(df_lower).select(\"tweets_token\", \"date\", \"station\")\n",
    "\n",
    "# remove stop words\n",
    "#stopwordList = [\"https://\",\"london\"]\n",
    "\n",
    "remover = StopWordsRemover(inputCol=\"tweets_token\", outputCol=\"tweets_sw_removed\")#, stopWords=stopwordList)\n",
    "df_clean = remover.transform(df_tokens).select(\"tweets_sw_removed\", \"date\", \"station\")\n",
    "\n",
    "# stemming\n",
    "stemmer = SnowballStemmer(language='english')\n",
    "stemmer_udf = udf(lambda tokens: [stemmer.stem(token) for token in tokens], ArrayType(StringType()))\n",
    "df_stemmed = df_clean.withColumn(\"tweets\", stemmer_udf(\"tweets_sw_removed\")).select(\"tweets\", \"date\", \"station\")"
   ]
  },
  {
   "cell_type": "code",
   "execution_count": 77,
   "metadata": {},
   "outputs": [
    {
     "name": "stdout",
     "output_type": "stream",
     "text": [
      "+--------------------+--------------------+-------------------+\n",
      "|              tweets|                date|            station|\n",
      "+--------------------+--------------------+-------------------+\n",
      "|[#newham, today,,...| 2021-04-20 20:15:20|         Abbey Road|\n",
      "|[massiv, upheav, ...| 2021-04-19 11:26:43|         Abbey Road|\n",
      "|[post, photo, @, ...| 2021-04-20 07:00:25|         Abbey Wood|\n",
      "|[walk, wild, side...| 2021-04-21 16:20:23|      Acton Central|\n",
      "|[post, video, @, ...| 2021-04-19 17:03:53|      Acton Central|\n",
      "|[walk, wild, side...| 2021-04-21 16:20:23|    Acton Main Line|\n",
      "|[london,, back,, ...|                null|               null|\n",
      "|[#london, #restau...| 2021-04-17 17:18:34|    Acton Main Line|\n",
      "|[\"join, intelsat,...| via th… https://...|2021-04-23 10:14:21|\n",
      "|[\"starbuck, look,...| 2021-04-23 09:03:37|         Acton Town|\n",
      "|[look, work, #lon...| 2021-04-22 12:15:30|         Acton Town|\n",
      "|[want, work, inte...| 2021-04-20 12:54:59|         Acton Town|\n",
      "|[#dawn, look, lik...| 2021-04-20 08:54:44|         Acton Town|\n",
      "|[excit, opportun,...| 2021-04-18 12:54:21|         Acton Town|\n",
      "|[hey, london, 🇬?...| 2021-04-24 21:04:00|            Aldgate|\n",
      "|[still, much, enj...| 2021-04-24 20:59:18|            Aldgate|\n",
      "|[saunil, london, ...| 2021-04-24 19:29:02|            Aldgate|\n",
      "|       [fragmented.]|                null|               null|\n",
      "|         [#stmaryax]|                null|               null|\n",
      "|          [#gherkin]|                null|               null|\n",
      "+--------------------+--------------------+-------------------+\n",
      "only showing top 20 rows\n",
      "\n"
     ]
    }
   ],
   "source": [
    "df_stemmed.show()"
   ]
  },
  {
   "cell_type": "code",
   "execution_count": 79,
   "metadata": {},
   "outputs": [],
   "source": [
    "# run bag of words\n",
    "bow0 = df_raw.rdd\\\n",
    "    .filter(lambda x: x.tweets)\\\n",
    "    .map( lambda x: x.tweets.replace(',',' ').replace('.',' ').replace('-',' ').lower())\\\n",
    "    .flatMap(lambda x: x.split())\\\n",
    "    .map(lambda x: (x, 1))\n"
   ]
  },
  {
   "cell_type": "code",
   "execution_count": 80,
   "metadata": {},
   "outputs": [
    {
     "data": {
      "text/plain": [
       "[('in', 54),\n",
       " ('#newham', 1),\n",
       " ('today', 1),\n",
       " ('was', 1),\n",
       " ('great', 3),\n",
       " ('to', 11),\n",
       " ('meet', 1),\n",
       " ('with', 6),\n",
       " ('the', 29),\n",
       " ('local', 1),\n",
       " ('police', 1),\n",
       " ('and', 11),\n",
       " ('have', 2),\n",
       " ('a', 29),\n",
       " ('walkabout', 1),\n",
       " ('community', 1),\n",
       " ('speak', 1),\n",
       " ('chief…', 1),\n",
       " ('https://t', 112),\n",
       " ('co/6vnnlrqj4o', 1)]"
      ]
     },
     "execution_count": 80,
     "metadata": {},
     "output_type": "execute_result"
    }
   ],
   "source": [
    "bow0.reduceByKey(lambda x,y:x+y).take(20)"
   ]
  },
  {
   "cell_type": "code",
   "execution_count": 22,
   "metadata": {},
   "outputs": [],
   "source": [
    "# csv output test\n",
    "df_raw.write.mode(\"overwrite\").csv(\"/Users/christopherkindl/Desktop/wed_test.csv\")"
   ]
  },
  {
   "cell_type": "code",
   "execution_count": 6,
   "metadata": {},
   "outputs": [],
   "source": [
    "# run bag of words\n",
    "bow0 = df_raw.rdd\\\n",
    "    .filter(lambda x: x.tweets)\\\n",
    "    .map( lambda x: x.tweets.replace(',',' ').replace('.',' ').replace('-',' ').lower())\\\n",
    "    .flatMap(lambda x: x.split())\\\n",
    "    .map(lambda x: (x, 1))"
   ]
  },
  {
   "cell_type": "code",
   "execution_count": 8,
   "metadata": {},
   "outputs": [
    {
     "data": {
      "text/plain": [
       "[('in', 54),\n",
       " ('#newham', 1),\n",
       " ('today', 1),\n",
       " ('was', 1),\n",
       " ('great', 3),\n",
       " ('to', 11),\n",
       " ('meet', 1),\n",
       " ('with', 6),\n",
       " ('the', 29),\n",
       " ('local', 1),\n",
       " ('police', 1),\n",
       " ('and', 11),\n",
       " ('have', 2),\n",
       " ('a', 29),\n",
       " ('walkabout', 1),\n",
       " ('community', 1),\n",
       " ('speak', 1),\n",
       " ('chief…', 1),\n",
       " ('https://t', 112),\n",
       " ('co/6vnnlrqj4o', 1)]"
      ]
     },
     "execution_count": 8,
     "metadata": {},
     "output_type": "execute_result"
    }
   ],
   "source": [
    "bow0.reduceByKey(lambda x,y:x+y).take(20)"
   ]
  },
  {
   "cell_type": "code",
   "execution_count": 86,
   "metadata": {},
   "outputs": [],
   "source": [
    "def func(**kwargs):\n",
    "    return print('test')"
   ]
  },
  {
   "cell_type": "code",
   "execution_count": 87,
   "metadata": {},
   "outputs": [
    {
     "name": "stdout",
     "output_type": "stream",
     "text": [
      "test\n"
     ]
    }
   ],
   "source": [
    "func()"
   ]
  },
  {
   "cell_type": "code",
   "execution_count": 88,
   "metadata": {},
   "outputs": [
    {
     "data": {
      "text/plain": [
       "'<function func at 0x11723ee50>'"
      ]
     },
     "execution_count": 88,
     "metadata": {},
     "output_type": "execute_result"
    }
   ],
   "source": [
    "str(func)"
   ]
  },
  {
   "cell_type": "code",
   "execution_count": 89,
   "metadata": {},
   "outputs": [],
   "source": [
    "test = str(func)"
   ]
  },
  {
   "cell_type": "code",
   "execution_count": 90,
   "metadata": {},
   "outputs": [
    {
     "data": {
      "text/plain": [
       "'<function func at 0x11723ee50>'"
      ]
     },
     "execution_count": 90,
     "metadata": {},
     "output_type": "execute_result"
    }
   ],
   "source": [
    "test"
   ]
  },
  {
   "cell_type": "code",
   "execution_count": 94,
   "metadata": {},
   "outputs": [],
   "source": [
    "from datetime import datetime"
   ]
  },
  {
   "cell_type": "code",
   "execution_count": 91,
   "metadata": {},
   "outputs": [],
   "source": [
    "step = func.__name__"
   ]
  },
  {
   "cell_type": "code",
   "execution_count": 95,
   "metadata": {},
   "outputs": [],
   "source": [
    "step = datetime.now()"
   ]
  },
  {
   "cell_type": "code",
   "execution_count": 96,
   "metadata": {},
   "outputs": [
    {
     "data": {
      "text/plain": [
       "datetime.datetime(2021, 4, 27, 18, 40, 30, 216184)"
      ]
     },
     "execution_count": 96,
     "metadata": {},
     "output_type": "execute_result"
    }
   ],
   "source": [
    "step"
   ]
  },
  {
   "cell_type": "code",
   "execution_count": null,
   "metadata": {},
   "outputs": [],
   "source": [
    "d = datetime.now().strftime('%Y-%m-%d %H:%M:%S')\n",
    "d\n",
    "datetime.datetime(2016, 1, 4, 17, 31, 32, 976902)\n",
    ">>> print(d)\n",
    "2016-01-04 17:31:32.976902\n",
    ">>> print(d.strftime('%Y-%m-%d %H:%M:%S'))\n",
    "2016-01-04 17:31:32"
   ]
  },
  {
   "cell_type": "code",
   "execution_count": 97,
   "metadata": {},
   "outputs": [],
   "source": [
    "d = datetime.now().strftime('%Y-%m-%d %H:%M:%S')"
   ]
  },
  {
   "cell_type": "code",
   "execution_count": 98,
   "metadata": {},
   "outputs": [
    {
     "data": {
      "text/plain": [
       "'2021-04-27 19:04:38'"
      ]
     },
     "execution_count": 98,
     "metadata": {},
     "output_type": "execute_result"
    }
   ],
   "source": [
    "d"
   ]
  },
  {
   "cell_type": "code",
   "execution_count": 99,
   "metadata": {},
   "outputs": [
    {
     "data": {
      "text/plain": [
       "'20210427'"
      ]
     },
     "execution_count": 99,
     "metadata": {},
     "output_type": "execute_result"
    }
   ],
   "source": [
    "datetime.now().strftime('%Y%m%d')"
   ]
  },
  {
   "cell_type": "code",
   "execution_count": 100,
   "metadata": {},
   "outputs": [
    {
     "data": {
      "text/plain": [
       "'s3://london-housing-webappfinal/test.csv'"
      ]
     },
     "execution_count": 100,
     "metadata": {},
     "output_type": "execute_result"
    }
   ],
   "source": [
    "bucket_name = 'london-housing-webapp'\n",
    "path = 'final/test.csv'\n",
    "\n",
    "source = 's3://' + bucket_name + path\n",
    "source"
   ]
  },
  {
   "cell_type": "code",
   "execution_count": 103,
   "metadata": {},
   "outputs": [
    {
     "ename": "SyntaxError",
     "evalue": "invalid syntax (<ipython-input-103-31b479fd9c81>, line 2)",
     "output_type": "error",
     "traceback": [
      "\u001b[0;36m  File \u001b[0;32m\"<ipython-input-103-31b479fd9c81>\"\u001b[0;36m, line \u001b[0;32m2\u001b[0m\n\u001b[0;31m    obj.append([job_nr=datetime.now().strftime('%Y%m%d'),\u001b[0m\n\u001b[0m                      ^\u001b[0m\n\u001b[0;31mSyntaxError\u001b[0m\u001b[0;31m:\u001b[0m invalid syntax\n"
     ]
    }
   ],
   "source": [
    "obj = []\n",
    "obj.append([job_nr=datetime.now().strftime('%Y%m%d'),\n",
    "                timestamp=datetime.now().strftime('%Y-%m-%d %H:%M:%S')])"
   ]
  },
  {
   "cell_type": "code",
   "execution_count": 104,
   "metadata": {},
   "outputs": [],
   "source": [
    "job_nr=datetime.now().strftime('%Y%m%d')"
   ]
  },
  {
   "cell_type": "code",
   "execution_count": 105,
   "metadata": {},
   "outputs": [],
   "source": [
    "timestamp=datetime.now().strftime('%Y-%m-%d %H:%M:%S')"
   ]
  },
  {
   "cell_type": "code",
   "execution_count": 106,
   "metadata": {},
   "outputs": [],
   "source": [
    "num = 0\n",
    "job_nr = num + 1"
   ]
  },
  {
   "cell_type": "code",
   "execution_count": 107,
   "metadata": {},
   "outputs": [
    {
     "data": {
      "text/plain": [
       "1"
      ]
     },
     "execution_count": 107,
     "metadata": {},
     "output_type": "execute_result"
    }
   ],
   "source": [
    "job_nr"
   ]
  },
  {
   "cell_type": "code",
   "execution_count": null,
   "metadata": {},
   "outputs": [],
   "source": []
  }
 ],
 "metadata": {
  "kernelspec": {
   "display_name": "Python 3",
   "language": "python",
   "name": "python3"
  },
  "language_info": {
   "codemirror_mode": {
    "name": "ipython",
    "version": 3
   },
   "file_extension": ".py",
   "mimetype": "text/x-python",
   "name": "python",
   "nbconvert_exporter": "python",
   "pygments_lexer": "ipython3",
   "version": "3.8.3"
  }
 },
 "nbformat": 4,
 "nbformat_minor": 4
}
