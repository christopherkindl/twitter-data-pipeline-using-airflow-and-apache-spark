{
 "cells": [
  {
   "cell_type": "code",
   "execution_count": 50,
   "metadata": {},
   "outputs": [],
   "source": [
    "import tweepy #requires pip install\n",
    "import numpy as np\n",
    "import pandas as pd\n",
    "import config"
   ]
  },
  {
   "cell_type": "code",
   "execution_count": 51,
   "metadata": {},
   "outputs": [],
   "source": [
    "consumer_key = config.consumer_key\n",
    "consumer_secret = config.consumer_secret\n",
    "access_token = config.access_token\n",
    "access_token_secret = config.access_token_secret"
   ]
  },
  {
   "cell_type": "code",
   "execution_count": 52,
   "metadata": {},
   "outputs": [],
   "source": [
    "auth = tweepy.OAuthHandler(consumer_key, consumer_secret)\n",
    "auth.set_access_token(access_token, access_token_secret)\n",
    "api = tweepy.API(auth)"
   ]
  },
  {
   "cell_type": "code",
   "execution_count": 53,
   "metadata": {},
   "outputs": [],
   "source": [
    "stations = pd.read_csv ('/Users/christopherkindl/working/data-engineering-group-assignment/\\\n",
    "01_web_scraping/Transport Data.csv')"
   ]
  },
  {
   "cell_type": "code",
   "execution_count": 78,
   "metadata": {},
   "outputs": [],
   "source": [
    "# test query\n",
    "number_of_tweets = 20\n",
    "tweets = []\n",
    "station = []\n",
    "date = []\n",
    "\n",
    "number_of_stations = 20\n",
    "\n",
    "for index in range(len(stations[:number_of_stations])):\n",
    "    for i in tweepy.Cursor(api.search, q = 'london', lang = 'en', geocode= \\\n",
    "                           str(stations['Latitude'][index])+','+str(stations['Longitude'][index])+',1km').\\\n",
    "        items(number_of_tweets):\n",
    "        tweets.append(i.text)\n",
    "        station.append(stations['Station'][index])\n",
    "        date.append(i.created_at)"
   ]
  },
  {
   "cell_type": "code",
   "execution_count": 79,
   "metadata": {},
   "outputs": [],
   "source": [
    "df = pd.DataFrame({'tweets': tweets, 'date':date, 'station': station})"
   ]
  },
  {
   "cell_type": "code",
   "execution_count": 80,
   "metadata": {},
   "outputs": [
    {
     "data": {
      "text/html": [
       "<div>\n",
       "<style scoped>\n",
       "    .dataframe tbody tr th:only-of-type {\n",
       "        vertical-align: middle;\n",
       "    }\n",
       "\n",
       "    .dataframe tbody tr th {\n",
       "        vertical-align: top;\n",
       "    }\n",
       "\n",
       "    .dataframe thead th {\n",
       "        text-align: right;\n",
       "    }\n",
       "</style>\n",
       "<table border=\"1\" class=\"dataframe\">\n",
       "  <thead>\n",
       "    <tr style=\"text-align: right;\">\n",
       "      <th></th>\n",
       "      <th>tweets</th>\n",
       "      <th>date</th>\n",
       "      <th>station</th>\n",
       "    </tr>\n",
       "  </thead>\n",
       "  <tbody>\n",
       "    <tr>\n",
       "      <th>0</th>\n",
       "      <td>In #Newham today, was great to meet with the l...</td>\n",
       "      <td>2021-04-20 20:15:20</td>\n",
       "      <td>Abbey Road</td>\n",
       "    </tr>\n",
       "    <tr>\n",
       "      <th>1</th>\n",
       "      <td>While there is massive upheaval going on in th...</td>\n",
       "      <td>2021-04-19 11:26:43</td>\n",
       "      <td>Abbey Road</td>\n",
       "    </tr>\n",
       "    <tr>\n",
       "      <th>2</th>\n",
       "      <td>Just posted a photo @ Abbey Wood, London, SE2 ...</td>\n",
       "      <td>2021-04-20 07:00:25</td>\n",
       "      <td>Abbey Wood</td>\n",
       "    </tr>\n",
       "    <tr>\n",
       "      <th>3</th>\n",
       "      <td>Walking on the wild side #LondonBridge #TowerB...</td>\n",
       "      <td>2021-04-21 16:20:23</td>\n",
       "      <td>Acton Central</td>\n",
       "    </tr>\n",
       "    <tr>\n",
       "      <th>4</th>\n",
       "      <td>Just posted a video @ Bedford Park, London htt...</td>\n",
       "      <td>2021-04-19 17:03:53</td>\n",
       "      <td>Acton Central</td>\n",
       "    </tr>\n",
       "    <tr>\n",
       "      <th>...</th>\n",
       "      <td>...</td>\n",
       "      <td>...</td>\n",
       "      <td>...</td>\n",
       "    </tr>\n",
       "    <tr>\n",
       "      <th>83</th>\n",
       "      <td>This is what happens when you let \"weeds\" take...</td>\n",
       "      <td>2021-04-21 10:51:04</td>\n",
       "      <td>Archway</td>\n",
       "    </tr>\n",
       "    <tr>\n",
       "      <th>84</th>\n",
       "      <td>New Householder Application planning applicati...</td>\n",
       "      <td>2021-04-20 01:38:16</td>\n",
       "      <td>Archway</td>\n",
       "    </tr>\n",
       "    <tr>\n",
       "      <th>85</th>\n",
       "      <td>New work. Acrylic on canvas 100cm x100cm. #art...</td>\n",
       "      <td>2021-04-19 08:01:32</td>\n",
       "      <td>Archway</td>\n",
       "    </tr>\n",
       "    <tr>\n",
       "      <th>86</th>\n",
       "      <td>I'm at Norman’s in London, England https://t.c...</td>\n",
       "      <td>2021-04-18 11:51:21</td>\n",
       "      <td>Archway</td>\n",
       "    </tr>\n",
       "    <tr>\n",
       "      <th>87</th>\n",
       "      <td>In London especially, this is going to turn in...</td>\n",
       "      <td>2021-04-18 07:39:40</td>\n",
       "      <td>Archway</td>\n",
       "    </tr>\n",
       "  </tbody>\n",
       "</table>\n",
       "<p>88 rows × 3 columns</p>\n",
       "</div>"
      ],
      "text/plain": [
       "                                               tweets                date  \\\n",
       "0   In #Newham today, was great to meet with the l... 2021-04-20 20:15:20   \n",
       "1   While there is massive upheaval going on in th... 2021-04-19 11:26:43   \n",
       "2   Just posted a photo @ Abbey Wood, London, SE2 ... 2021-04-20 07:00:25   \n",
       "3   Walking on the wild side #LondonBridge #TowerB... 2021-04-21 16:20:23   \n",
       "4   Just posted a video @ Bedford Park, London htt... 2021-04-19 17:03:53   \n",
       "..                                                ...                 ...   \n",
       "83  This is what happens when you let \"weeds\" take... 2021-04-21 10:51:04   \n",
       "84  New Householder Application planning applicati... 2021-04-20 01:38:16   \n",
       "85  New work. Acrylic on canvas 100cm x100cm. #art... 2021-04-19 08:01:32   \n",
       "86  I'm at Norman’s in London, England https://t.c... 2021-04-18 11:51:21   \n",
       "87  In London especially, this is going to turn in... 2021-04-18 07:39:40   \n",
       "\n",
       "          station  \n",
       "0      Abbey Road  \n",
       "1      Abbey Road  \n",
       "2      Abbey Wood  \n",
       "3   Acton Central  \n",
       "4   Acton Central  \n",
       "..            ...  \n",
       "83        Archway  \n",
       "84        Archway  \n",
       "85        Archway  \n",
       "86        Archway  \n",
       "87        Archway  \n",
       "\n",
       "[88 rows x 3 columns]"
      ]
     },
     "execution_count": 80,
     "metadata": {},
     "output_type": "execute_result"
    }
   ],
   "source": [
    "df"
   ]
  },
  {
   "cell_type": "code",
   "execution_count": 59,
   "metadata": {},
   "outputs": [],
   "source": [
    "# pyspark modules\n",
    "from pyspark.sql import SparkSession\n",
    "from textblob import TextBlob\n",
    "from pyspark.sql.functions import udf"
   ]
  },
  {
   "cell_type": "code",
   "execution_count": 60,
   "metadata": {
    "scrolled": true
   },
   "outputs": [
    {
     "name": "stdout",
     "output_type": "stream",
     "text": [
      "Requirement already satisfied: vaderSentiment in /Users/christopherkindl/opt/anaconda3/lib/python3.8/site-packages (3.3.2)\n",
      "Requirement already satisfied: requests in /Users/christopherkindl/opt/anaconda3/lib/python3.8/site-packages (from vaderSentiment) (2.24.0)\n",
      "Requirement already satisfied: certifi>=2017.4.17 in /Users/christopherkindl/opt/anaconda3/lib/python3.8/site-packages (from requests->vaderSentiment) (2020.6.20)\n",
      "Requirement already satisfied: idna<3,>=2.5 in /Users/christopherkindl/opt/anaconda3/lib/python3.8/site-packages (from requests->vaderSentiment) (2.10)\n",
      "Requirement already satisfied: urllib3!=1.25.0,!=1.25.1,<1.26,>=1.21.1 in /Users/christopherkindl/opt/anaconda3/lib/python3.8/site-packages (from requests->vaderSentiment) (1.25.9)\n",
      "Requirement already satisfied: chardet<4,>=3.0.2 in /Users/christopherkindl/opt/anaconda3/lib/python3.8/site-packages (from requests->vaderSentiment) (3.0.4)\n",
      "\u001b[33mWARNING: You are using pip version 20.2.4; however, version 21.1 is available.\n",
      "You should consider upgrading via the '/Users/christopherkindl/opt/anaconda3/bin/python -m pip install --upgrade pip' command.\u001b[0m\n"
     ]
    }
   ],
   "source": [
    "!pip install vaderSentiment"
   ]
  },
  {
   "cell_type": "code",
   "execution_count": null,
   "metadata": {},
   "outputs": [],
   "source": [
    "def apply_blob(sentence):\n",
    "    temp = TextBlob(sentence).sentiment[0]\n",
    "    if temp == 0.0:\n",
    "        return 0.0 # Neutral\n",
    "    elif temp >= 0.0:\n",
    "        return 1.0 # Positive\n",
    "    else:\n",
    "        return 2.0 # Negative"
   ]
  },
  {
   "cell_type": "code",
   "execution_count": 61,
   "metadata": {},
   "outputs": [],
   "source": [
    "from vaderSentiment.vaderSentiment import SentimentIntensityAnalyzer\n",
    "analyzer = SentimentIntensityAnalyzer()"
   ]
  },
  {
   "cell_type": "code",
   "execution_count": null,
   "metadata": {},
   "outputs": [],
   "source": [
    "for sentence in sentences:\n",
    "    vs = analyzer.polarity_scores(sentence)"
   ]
  },
  {
   "cell_type": "code",
   "execution_count": 63,
   "metadata": {},
   "outputs": [],
   "source": [
    "sentence = 'Make sure that you dont sound to cooperate!'\n",
    "vs = analyzer.polarity_scores(sentence)"
   ]
  },
  {
   "cell_type": "code",
   "execution_count": 71,
   "metadata": {},
   "outputs": [
    {
     "data": {
      "text/plain": [
       "{'neg': 0.0, 'neu': 0.73, 'pos': 0.27, 'compound': 0.3802}"
      ]
     },
     "execution_count": 71,
     "metadata": {},
     "output_type": "execute_result"
    }
   ],
   "source": [
    "vs"
   ]
  },
  {
   "cell_type": "code",
   "execution_count": 90,
   "metadata": {},
   "outputs": [],
   "source": [
    "def apply_vader(sentence):\n",
    "    vs = analyzer.polarity_scores(sentence)    \n",
    "    return float(round(vs.get('compound'), 2))\n",
    "\n",
    "# assign sentiment function as an user defined function\n",
    "sentiment = udf(apply_vader)"
   ]
  },
  {
   "cell_type": "code",
   "execution_count": 91,
   "metadata": {},
   "outputs": [
    {
     "name": "stdout",
     "output_type": "stream",
     "text": [
      "+---+--------------------+-------------------+-------------+---------+\n",
      "|_c0|              tweets|               date|      station|sentiment|\n",
      "+---+--------------------+-------------------+-------------+---------+\n",
      "|  0|In #Newham today,...|2021-04-20 20:15:20|   Abbey Road|     0.62|\n",
      "|  1|While there is ma...|2021-04-19 11:26:43|   Abbey Road|     0.42|\n",
      "|  2|Just posted a pho...|2021-04-20 07:00:25|   Abbey Wood|      0.0|\n",
      "|  3|Walking on the wi...|2021-04-21 16:20:23|Acton Central|      0.0|\n",
      "|  4|Just posted a vid...|2021-04-19 17:03:53|Acton Central|      0.0|\n",
      "+---+--------------------+-------------------+-------------+---------+\n",
      "\n"
     ]
    }
   ],
   "source": [
    "spark = SparkSession.builder.appName('SentimentAnalysis').getOrCreate()\n",
    "df_raw = spark.read.option('header', True).csv('/Users/christopherkindl/working/twitter_output_1.csv')\n",
    "df_clean = df_raw.withColumn('sentiment', sentiment(df_raw['tweets']))\n",
    "df_clean.show()"
   ]
  },
  {
   "cell_type": "code",
   "execution_count": 76,
   "metadata": {},
   "outputs": [],
   "source": [
    "df_raw = spark.read.option('header', True).csv('/Users/christopherkindl/working/twitter_output_1.csv')"
   ]
  },
  {
   "cell_type": "code",
   "execution_count": 104,
   "metadata": {},
   "outputs": [],
   "source": [
    "# convert to pandas df first to avoid folder creation which happens when using spark csv function and export to csv\n",
    "header = [\"tweets\", \"date\", \"station\", \"sentiment\"]\n",
    "df_clean.toPandas().to_csv('/Users/christopherkindl/desktop/twitter_output_20.csv', columns = header, index = False)"
   ]
  },
  {
   "cell_type": "code",
   "execution_count": 96,
   "metadata": {},
   "outputs": [],
   "source": [
    "df_clean.write.option(\"header\", \"true\").csv('/Users/christopherkindl/desktop/twitter_output_6.csv')"
   ]
  },
  {
   "cell_type": "code",
   "execution_count": null,
   "metadata": {},
   "outputs": [],
   "source": []
  }
 ],
 "metadata": {
  "kernelspec": {
   "display_name": "Python 3",
   "language": "python",
   "name": "python3"
  },
  "language_info": {
   "codemirror_mode": {
    "name": "ipython",
    "version": 3
   },
   "file_extension": ".py",
   "mimetype": "text/x-python",
   "name": "python",
   "nbconvert_exporter": "python",
   "pygments_lexer": "ipython3",
   "version": "3.8.3"
  }
 },
 "nbformat": 4,
 "nbformat_minor": 4
}
