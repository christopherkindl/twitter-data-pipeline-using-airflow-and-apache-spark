{
 "cells": [
  {
   "cell_type": "code",
   "execution_count": 1,
   "metadata": {},
   "outputs": [],
   "source": [
    "import tweepy #requires pip install\n",
    "import numpy as np\n",
    "import pandas as pd\n",
    "import config"
   ]
  },
  {
   "cell_type": "code",
   "execution_count": 2,
   "metadata": {},
   "outputs": [],
   "source": [
    "consumer_key = config.consumer_key\n",
    "consumer_secret = config.consumer_secret\n",
    "access_token = config.access_token\n",
    "access_token_secret = config.access_token_secret"
   ]
  },
  {
   "cell_type": "code",
   "execution_count": 3,
   "metadata": {},
   "outputs": [],
   "source": [
    "auth = tweepy.OAuthHandler(consumer_key, consumer_secret)\n",
    "auth.set_access_token(access_token, access_token_secret)\n",
    "api = tweepy.API(auth)"
   ]
  },
  {
   "cell_type": "code",
   "execution_count": 4,
   "metadata": {},
   "outputs": [],
   "source": [
    "stations = pd.read_csv ('/Users/christopherkindl/working/data-engineering-group-assignment/\\\n",
    "01_web_scraping/Transport Data.csv')"
   ]
  },
  {
   "cell_type": "code",
   "execution_count": 28,
   "metadata": {
    "scrolled": true
   },
   "outputs": [],
   "source": [
    "# test query\n",
    "number_of_tweets = 5\n",
    "tweets = []\n",
    "station = []\n",
    "date = []\n",
    "\n",
    "number_of_stations = 15\n",
    "\n",
    "for index in range(len(stations[:number_of_stations])):\n",
    "    for i in tweepy.Cursor(api.search, q = 'london', lang = 'en', tweet_mode='extended', geocode= \\\n",
    "                           str(stations['Latitude'][index])+','+str(stations['Longitude'][index])+',1km').\\\n",
    "        items(number_of_tweets):\n",
    "        tweets.append(i.full_text)\n",
    "        station.append(stations['Station'][index])\n",
    "        date.append(i.created_at)"
   ]
  },
  {
   "cell_type": "code",
   "execution_count": 21,
   "metadata": {},
   "outputs": [
    {
     "name": "stdout",
     "output_type": "stream",
     "text": [
      "Status(_api=<tweepy.api.API object at 0x11b5f3130>, _json={'created_at': 'Tue Apr 20 20:15:20 +0000 2021', 'id': 1384601597871853568, 'id_str': '1384601597871853568', 'full_text': 'In #Newham today, was great to meet with the local police and have a walkabout in the community and speak to Chief Superintendent Richard Tucker, a true @metpoliceuk leader. Always time for a quick selfie too #London #LondonMayor2021 #mayorelection #farahformayor https://t.co/kzNVZJpwDN', 'truncated': False, 'display_text_range': [0, 263], 'entities': {'hashtags': [{'text': 'Newham', 'indices': [3, 10]}, {'text': 'London', 'indices': [209, 216]}, {'text': 'LondonMayor2021', 'indices': [217, 233]}, {'text': 'mayorelection', 'indices': [234, 248]}, {'text': 'farahformayor', 'indices': [249, 263]}], 'symbols': [], 'user_mentions': [{'screen_name': 'metpoliceuk', 'name': 'Metropolitan Police', 'id': 66967746, 'id_str': '66967746', 'indices': [153, 165]}], 'urls': [], 'media': [{'id': 1384601591433469957, 'id_str': '1384601591433469957', 'indices': [264, 287], 'media_url': 'http://pbs.twimg.com/media/EzcXz7zVIAUq7oU.jpg', 'media_url_https': 'https://pbs.twimg.com/media/EzcXz7zVIAUq7oU.jpg', 'url': 'https://t.co/kzNVZJpwDN', 'display_url': 'pic.twitter.com/kzNVZJpwDN', 'expanded_url': 'https://twitter.com/MsFarahLondon/status/1384601597871853568/photo/1', 'type': 'photo', 'sizes': {'thumb': {'w': 150, 'h': 150, 'resize': 'crop'}, 'medium': {'w': 758, 'h': 453, 'resize': 'fit'}, 'large': {'w': 758, 'h': 453, 'resize': 'fit'}, 'small': {'w': 680, 'h': 406, 'resize': 'fit'}}}]}, 'extended_entities': {'media': [{'id': 1384601591433469957, 'id_str': '1384601591433469957', 'indices': [264, 287], 'media_url': 'http://pbs.twimg.com/media/EzcXz7zVIAUq7oU.jpg', 'media_url_https': 'https://pbs.twimg.com/media/EzcXz7zVIAUq7oU.jpg', 'url': 'https://t.co/kzNVZJpwDN', 'display_url': 'pic.twitter.com/kzNVZJpwDN', 'expanded_url': 'https://twitter.com/MsFarahLondon/status/1384601597871853568/photo/1', 'type': 'photo', 'sizes': {'thumb': {'w': 150, 'h': 150, 'resize': 'crop'}, 'medium': {'w': 758, 'h': 453, 'resize': 'fit'}, 'large': {'w': 758, 'h': 453, 'resize': 'fit'}, 'small': {'w': 680, 'h': 406, 'resize': 'fit'}}}]}, 'metadata': {'iso_language_code': 'en', 'result_type': 'recent'}, 'source': '<a href=\"http://twitter.com/download/iphone\" rel=\"nofollow\">Twitter for iPhone</a>', 'in_reply_to_status_id': None, 'in_reply_to_status_id_str': None, 'in_reply_to_user_id': None, 'in_reply_to_user_id_str': None, 'in_reply_to_screen_name': None, 'user': {'id': 1154341111072284672, 'id_str': '1154341111072284672', 'name': 'Ms Farah London', 'screen_name': 'MsFarahLondon', 'location': 'London', 'description': 'Mayor of London 2021 Independent Candidate Committed to @BringLondonBack Instagram: @Msfarahlondon', 'url': 'https://t.co/triyIvgXNP', 'entities': {'url': {'urls': [{'url': 'https://t.co/triyIvgXNP', 'expanded_url': 'http://votefarah.london', 'display_url': 'votefarah.london', 'indices': [0, 23]}]}, 'description': {'urls': []}}, 'protected': False, 'followers_count': 6586, 'friends_count': 646, 'listed_count': 17, 'created_at': 'Thu Jul 25 10:42:22 +0000 2019', 'favourites_count': 4691, 'utc_offset': None, 'time_zone': None, 'geo_enabled': True, 'verified': False, 'statuses_count': 2726, 'lang': None, 'contributors_enabled': False, 'is_translator': False, 'is_translation_enabled': False, 'profile_background_color': 'F5F8FA', 'profile_background_image_url': None, 'profile_background_image_url_https': None, 'profile_background_tile': False, 'profile_image_url': 'http://pbs.twimg.com/profile_images/1281885874981081088/IEWHgkzB_normal.jpg', 'profile_image_url_https': 'https://pbs.twimg.com/profile_images/1281885874981081088/IEWHgkzB_normal.jpg', 'profile_banner_url': 'https://pbs.twimg.com/profile_banners/1154341111072284672/1613390531', 'profile_link_color': '1DA1F2', 'profile_sidebar_border_color': 'C0DEED', 'profile_sidebar_fill_color': 'DDEEF6', 'profile_text_color': '333333', 'profile_use_background_image': True, 'has_extended_profile': False, 'default_profile': True, 'default_profile_image': False, 'following': False, 'follow_request_sent': False, 'notifications': False, 'translator_type': 'none'}, 'geo': None, 'coordinates': None, 'place': {'id': '0fc326fac894f000', 'url': 'https://api.twitter.com/1.1/geo/id/0fc326fac894f000.json', 'place_type': 'poi', 'name': 'London Borough of Newham', 'full_name': 'London Borough of Newham', 'country_code': 'GB', 'country': 'United Kingdom', 'contained_within': [], 'bounding_box': {'type': 'Polygon', 'coordinates': [[[0.007893994269331652, 51.52737723814722], [0.007893994269331652, 51.52737723814722], [0.007893994269331652, 51.52737723814722], [0.007893994269331652, 51.52737723814722]]]}, 'attributes': {}}, 'contributors': None, 'is_quote_status': False, 'retweet_count': 3, 'favorite_count': 12, 'favorited': False, 'retweeted': False, 'possibly_sensitive': False, 'lang': 'en'}, created_at=datetime.datetime(2021, 4, 20, 20, 15, 20), id=1384601597871853568, id_str='1384601597871853568', full_text='In #Newham today, was great to meet with the local police and have a walkabout in the community and speak to Chief Superintendent Richard Tucker, a true @metpoliceuk leader. Always time for a quick selfie too #London #LondonMayor2021 #mayorelection #farahformayor https://t.co/kzNVZJpwDN', truncated=False, display_text_range=[0, 263], entities={'hashtags': [{'text': 'Newham', 'indices': [3, 10]}, {'text': 'London', 'indices': [209, 216]}, {'text': 'LondonMayor2021', 'indices': [217, 233]}, {'text': 'mayorelection', 'indices': [234, 248]}, {'text': 'farahformayor', 'indices': [249, 263]}], 'symbols': [], 'user_mentions': [{'screen_name': 'metpoliceuk', 'name': 'Metropolitan Police', 'id': 66967746, 'id_str': '66967746', 'indices': [153, 165]}], 'urls': [], 'media': [{'id': 1384601591433469957, 'id_str': '1384601591433469957', 'indices': [264, 287], 'media_url': 'http://pbs.twimg.com/media/EzcXz7zVIAUq7oU.jpg', 'media_url_https': 'https://pbs.twimg.com/media/EzcXz7zVIAUq7oU.jpg', 'url': 'https://t.co/kzNVZJpwDN', 'display_url': 'pic.twitter.com/kzNVZJpwDN', 'expanded_url': 'https://twitter.com/MsFarahLondon/status/1384601597871853568/photo/1', 'type': 'photo', 'sizes': {'thumb': {'w': 150, 'h': 150, 'resize': 'crop'}, 'medium': {'w': 758, 'h': 453, 'resize': 'fit'}, 'large': {'w': 758, 'h': 453, 'resize': 'fit'}, 'small': {'w': 680, 'h': 406, 'resize': 'fit'}}}]}, extended_entities={'media': [{'id': 1384601591433469957, 'id_str': '1384601591433469957', 'indices': [264, 287], 'media_url': 'http://pbs.twimg.com/media/EzcXz7zVIAUq7oU.jpg', 'media_url_https': 'https://pbs.twimg.com/media/EzcXz7zVIAUq7oU.jpg', 'url': 'https://t.co/kzNVZJpwDN', 'display_url': 'pic.twitter.com/kzNVZJpwDN', 'expanded_url': 'https://twitter.com/MsFarahLondon/status/1384601597871853568/photo/1', 'type': 'photo', 'sizes': {'thumb': {'w': 150, 'h': 150, 'resize': 'crop'}, 'medium': {'w': 758, 'h': 453, 'resize': 'fit'}, 'large': {'w': 758, 'h': 453, 'resize': 'fit'}, 'small': {'w': 680, 'h': 406, 'resize': 'fit'}}}]}, metadata={'iso_language_code': 'en', 'result_type': 'recent'}, source='Twitter for iPhone', source_url='http://twitter.com/download/iphone', in_reply_to_status_id=None, in_reply_to_status_id_str=None, in_reply_to_user_id=None, in_reply_to_user_id_str=None, in_reply_to_screen_name=None, author=User(_api=<tweepy.api.API object at 0x11b5f3130>, _json={'id': 1154341111072284672, 'id_str': '1154341111072284672', 'name': 'Ms Farah London', 'screen_name': 'MsFarahLondon', 'location': 'London', 'description': 'Mayor of London 2021 Independent Candidate Committed to @BringLondonBack Instagram: @Msfarahlondon', 'url': 'https://t.co/triyIvgXNP', 'entities': {'url': {'urls': [{'url': 'https://t.co/triyIvgXNP', 'expanded_url': 'http://votefarah.london', 'display_url': 'votefarah.london', 'indices': [0, 23]}]}, 'description': {'urls': []}}, 'protected': False, 'followers_count': 6586, 'friends_count': 646, 'listed_count': 17, 'created_at': 'Thu Jul 25 10:42:22 +0000 2019', 'favourites_count': 4691, 'utc_offset': None, 'time_zone': None, 'geo_enabled': True, 'verified': False, 'statuses_count': 2726, 'lang': None, 'contributors_enabled': False, 'is_translator': False, 'is_translation_enabled': False, 'profile_background_color': 'F5F8FA', 'profile_background_image_url': None, 'profile_background_image_url_https': None, 'profile_background_tile': False, 'profile_image_url': 'http://pbs.twimg.com/profile_images/1281885874981081088/IEWHgkzB_normal.jpg', 'profile_image_url_https': 'https://pbs.twimg.com/profile_images/1281885874981081088/IEWHgkzB_normal.jpg', 'profile_banner_url': 'https://pbs.twimg.com/profile_banners/1154341111072284672/1613390531', 'profile_link_color': '1DA1F2', 'profile_sidebar_border_color': 'C0DEED', 'profile_sidebar_fill_color': 'DDEEF6', 'profile_text_color': '333333', 'profile_use_background_image': True, 'has_extended_profile': False, 'default_profile': True, 'default_profile_image': False, 'following': False, 'follow_request_sent': False, 'notifications': False, 'translator_type': 'none'}, id=1154341111072284672, id_str='1154341111072284672', name='Ms Farah London', screen_name='MsFarahLondon', location='London', description='Mayor of London 2021 Independent Candidate Committed to @BringLondonBack Instagram: @Msfarahlondon', url='https://t.co/triyIvgXNP', entities={'url': {'urls': [{'url': 'https://t.co/triyIvgXNP', 'expanded_url': 'http://votefarah.london', 'display_url': 'votefarah.london', 'indices': [0, 23]}]}, 'description': {'urls': []}}, protected=False, followers_count=6586, friends_count=646, listed_count=17, created_at=datetime.datetime(2019, 7, 25, 10, 42, 22), favourites_count=4691, utc_offset=None, time_zone=None, geo_enabled=True, verified=False, statuses_count=2726, lang=None, contributors_enabled=False, is_translator=False, is_translation_enabled=False, profile_background_color='F5F8FA', profile_background_image_url=None, profile_background_image_url_https=None, profile_background_tile=False, profile_image_url='http://pbs.twimg.com/profile_images/1281885874981081088/IEWHgkzB_normal.jpg', profile_image_url_https='https://pbs.twimg.com/profile_images/1281885874981081088/IEWHgkzB_normal.jpg', profile_banner_url='https://pbs.twimg.com/profile_banners/1154341111072284672/1613390531', profile_link_color='1DA1F2', profile_sidebar_border_color='C0DEED', profile_sidebar_fill_color='DDEEF6', profile_text_color='333333', profile_use_background_image=True, has_extended_profile=False, default_profile=True, default_profile_image=False, following=False, follow_request_sent=False, notifications=False, translator_type='none'), user=User(_api=<tweepy.api.API object at 0x11b5f3130>, _json={'id': 1154341111072284672, 'id_str': '1154341111072284672', 'name': 'Ms Farah London', 'screen_name': 'MsFarahLondon', 'location': 'London', 'description': 'Mayor of London 2021 Independent Candidate Committed to @BringLondonBack Instagram: @Msfarahlondon', 'url': 'https://t.co/triyIvgXNP', 'entities': {'url': {'urls': [{'url': 'https://t.co/triyIvgXNP', 'expanded_url': 'http://votefarah.london', 'display_url': 'votefarah.london', 'indices': [0, 23]}]}, 'description': {'urls': []}}, 'protected': False, 'followers_count': 6586, 'friends_count': 646, 'listed_count': 17, 'created_at': 'Thu Jul 25 10:42:22 +0000 2019', 'favourites_count': 4691, 'utc_offset': None, 'time_zone': None, 'geo_enabled': True, 'verified': False, 'statuses_count': 2726, 'lang': None, 'contributors_enabled': False, 'is_translator': False, 'is_translation_enabled': False, 'profile_background_color': 'F5F8FA', 'profile_background_image_url': None, 'profile_background_image_url_https': None, 'profile_background_tile': False, 'profile_image_url': 'http://pbs.twimg.com/profile_images/1281885874981081088/IEWHgkzB_normal.jpg', 'profile_image_url_https': 'https://pbs.twimg.com/profile_images/1281885874981081088/IEWHgkzB_normal.jpg', 'profile_banner_url': 'https://pbs.twimg.com/profile_banners/1154341111072284672/1613390531', 'profile_link_color': '1DA1F2', 'profile_sidebar_border_color': 'C0DEED', 'profile_sidebar_fill_color': 'DDEEF6', 'profile_text_color': '333333', 'profile_use_background_image': True, 'has_extended_profile': False, 'default_profile': True, 'default_profile_image': False, 'following': False, 'follow_request_sent': False, 'notifications': False, 'translator_type': 'none'}, id=1154341111072284672, id_str='1154341111072284672', name='Ms Farah London', screen_name='MsFarahLondon', location='London', description='Mayor of London 2021 Independent Candidate Committed to @BringLondonBack Instagram: @Msfarahlondon', url='https://t.co/triyIvgXNP', entities={'url': {'urls': [{'url': 'https://t.co/triyIvgXNP', 'expanded_url': 'http://votefarah.london', 'display_url': 'votefarah.london', 'indices': [0, 23]}]}, 'description': {'urls': []}}, protected=False, followers_count=6586, friends_count=646, listed_count=17, created_at=datetime.datetime(2019, 7, 25, 10, 42, 22), favourites_count=4691, utc_offset=None, time_zone=None, geo_enabled=True, verified=False, statuses_count=2726, lang=None, contributors_enabled=False, is_translator=False, is_translation_enabled=False, profile_background_color='F5F8FA', profile_background_image_url=None, profile_background_image_url_https=None, profile_background_tile=False, profile_image_url='http://pbs.twimg.com/profile_images/1281885874981081088/IEWHgkzB_normal.jpg', profile_image_url_https='https://pbs.twimg.com/profile_images/1281885874981081088/IEWHgkzB_normal.jpg', profile_banner_url='https://pbs.twimg.com/profile_banners/1154341111072284672/1613390531', profile_link_color='1DA1F2', profile_sidebar_border_color='C0DEED', profile_sidebar_fill_color='DDEEF6', profile_text_color='333333', profile_use_background_image=True, has_extended_profile=False, default_profile=True, default_profile_image=False, following=False, follow_request_sent=False, notifications=False, translator_type='none'), geo=None, coordinates=None, place=Place(_api=<tweepy.api.API object at 0x11b5f3130>, id='0fc326fac894f000', url='https://api.twitter.com/1.1/geo/id/0fc326fac894f000.json', place_type='poi', name='London Borough of Newham', full_name='London Borough of Newham', country_code='GB', country='United Kingdom', contained_within=[], bounding_box=BoundingBox(_api=<tweepy.api.API object at 0x11b5f3130>, type='Polygon', coordinates=[[[0.007893994269331652, 51.52737723814722], [0.007893994269331652, 51.52737723814722], [0.007893994269331652, 51.52737723814722], [0.007893994269331652, 51.52737723814722]]]), attributes={}), contributors=None, is_quote_status=False, retweet_count=3, favorite_count=12, favorited=False, retweeted=False, possibly_sensitive=False, lang='en')\n",
      "Status(_api=<tweepy.api.API object at 0x11b5f3130>, _json={'created_at': 'Mon Apr 19 11:26:43 +0000 2021', 'id': 1384106181707268100, 'id_str': '1384106181707268100', 'full_text': 'While there is massive upheaval going on in the football scene these swans at the back of the West Ham United/ London Olympic stadium are just getting on with their lives. @noordinarypark https://t.co/iita4Mps3d', 'truncated': False, 'display_text_range': [0, 187], 'entities': {'hashtags': [], 'symbols': [], 'user_mentions': [{'screen_name': 'noordinarypark', 'name': 'Queen Elizabeth Olympic Park', 'id': 1487573899, 'id_str': '1487573899', 'indices': [172, 187]}], 'urls': [], 'media': [{'id': 1384106166674853894, 'id_str': '1384106166674853894', 'indices': [188, 211], 'media_url': 'http://pbs.twimg.com/media/EzVVOawVEAYfVO3.jpg', 'media_url_https': 'https://pbs.twimg.com/media/EzVVOawVEAYfVO3.jpg', 'url': 'https://t.co/iita4Mps3d', 'display_url': 'pic.twitter.com/iita4Mps3d', 'expanded_url': 'https://twitter.com/JoanKeating2/status/1384106181707268100/photo/1', 'type': 'photo', 'sizes': {'thumb': {'w': 150, 'h': 150, 'resize': 'crop'}, 'small': {'w': 510, 'h': 680, 'resize': 'fit'}, 'medium': {'w': 900, 'h': 1200, 'resize': 'fit'}, 'large': {'w': 1536, 'h': 2048, 'resize': 'fit'}}}]}, 'extended_entities': {'media': [{'id': 1384106166674853894, 'id_str': '1384106166674853894', 'indices': [188, 211], 'media_url': 'http://pbs.twimg.com/media/EzVVOawVEAYfVO3.jpg', 'media_url_https': 'https://pbs.twimg.com/media/EzVVOawVEAYfVO3.jpg', 'url': 'https://t.co/iita4Mps3d', 'display_url': 'pic.twitter.com/iita4Mps3d', 'expanded_url': 'https://twitter.com/JoanKeating2/status/1384106181707268100/photo/1', 'type': 'photo', 'sizes': {'thumb': {'w': 150, 'h': 150, 'resize': 'crop'}, 'small': {'w': 510, 'h': 680, 'resize': 'fit'}, 'medium': {'w': 900, 'h': 1200, 'resize': 'fit'}, 'large': {'w': 1536, 'h': 2048, 'resize': 'fit'}}}, {'id': 1384106176925769733, 'id_str': '1384106176925769733', 'indices': [188, 211], 'media_url': 'http://pbs.twimg.com/media/EzVVPA8VoAUcIQ3.jpg', 'media_url_https': 'https://pbs.twimg.com/media/EzVVPA8VoAUcIQ3.jpg', 'url': 'https://t.co/iita4Mps3d', 'display_url': 'pic.twitter.com/iita4Mps3d', 'expanded_url': 'https://twitter.com/JoanKeating2/status/1384106181707268100/photo/1', 'type': 'photo', 'sizes': {'small': {'w': 510, 'h': 680, 'resize': 'fit'}, 'thumb': {'w': 150, 'h': 150, 'resize': 'crop'}, 'large': {'w': 1536, 'h': 2048, 'resize': 'fit'}, 'medium': {'w': 900, 'h': 1200, 'resize': 'fit'}}}]}, 'metadata': {'iso_language_code': 'en', 'result_type': 'recent'}, 'source': '<a href=\"http://twitter.com/download/android\" rel=\"nofollow\">Twitter for Android</a>', 'in_reply_to_status_id': None, 'in_reply_to_status_id_str': None, 'in_reply_to_user_id': None, 'in_reply_to_user_id_str': None, 'in_reply_to_screen_name': None, 'user': {'id': 537400056, 'id_str': '537400056', 'name': 'Dr Joan Keating', 'screen_name': 'JoanKeating2', 'location': 'Stratford E15', 'description': 'Tweets reflect the lifelong interests I have as a result of a Textiles degree at UMIST (1984) and Politics PhD at Manchester (1992) about Catholics and Labour.', 'url': None, 'entities': {'description': {'urls': []}}, 'protected': False, 'followers_count': 698, 'friends_count': 1272, 'listed_count': 13, 'created_at': 'Mon Mar 26 15:39:37 +0000 2012', 'favourites_count': 14507, 'utc_offset': None, 'time_zone': None, 'geo_enabled': False, 'verified': False, 'statuses_count': 7123, 'lang': None, 'contributors_enabled': False, 'is_translator': False, 'is_translation_enabled': False, 'profile_background_color': 'C0DEED', 'profile_background_image_url': 'http://abs.twimg.com/images/themes/theme1/bg.png', 'profile_background_image_url_https': 'https://abs.twimg.com/images/themes/theme1/bg.png', 'profile_background_tile': False, 'profile_image_url': 'http://pbs.twimg.com/profile_images/1195682998101958656/VtAsZPbe_normal.jpg', 'profile_image_url_https': 'https://pbs.twimg.com/profile_images/1195682998101958656/VtAsZPbe_normal.jpg', 'profile_link_color': '1DA1F2', 'profile_sidebar_border_color': 'C0DEED', 'profile_sidebar_fill_color': 'DDEEF6', 'profile_text_color': '333333', 'profile_use_background_image': True, 'has_extended_profile': False, 'default_profile': True, 'default_profile_image': False, 'following': False, 'follow_request_sent': False, 'notifications': False, 'translator_type': 'none'}, 'geo': None, 'coordinates': None, 'place': None, 'contributors': None, 'is_quote_status': False, 'retweet_count': 0, 'favorite_count': 6, 'favorited': False, 'retweeted': False, 'possibly_sensitive': False, 'lang': 'en'}, created_at=datetime.datetime(2021, 4, 19, 11, 26, 43), id=1384106181707268100, id_str='1384106181707268100', full_text='While there is massive upheaval going on in the football scene these swans at the back of the West Ham United/ London Olympic stadium are just getting on with their lives. @noordinarypark https://t.co/iita4Mps3d', truncated=False, display_text_range=[0, 187], entities={'hashtags': [], 'symbols': [], 'user_mentions': [{'screen_name': 'noordinarypark', 'name': 'Queen Elizabeth Olympic Park', 'id': 1487573899, 'id_str': '1487573899', 'indices': [172, 187]}], 'urls': [], 'media': [{'id': 1384106166674853894, 'id_str': '1384106166674853894', 'indices': [188, 211], 'media_url': 'http://pbs.twimg.com/media/EzVVOawVEAYfVO3.jpg', 'media_url_https': 'https://pbs.twimg.com/media/EzVVOawVEAYfVO3.jpg', 'url': 'https://t.co/iita4Mps3d', 'display_url': 'pic.twitter.com/iita4Mps3d', 'expanded_url': 'https://twitter.com/JoanKeating2/status/1384106181707268100/photo/1', 'type': 'photo', 'sizes': {'thumb': {'w': 150, 'h': 150, 'resize': 'crop'}, 'small': {'w': 510, 'h': 680, 'resize': 'fit'}, 'medium': {'w': 900, 'h': 1200, 'resize': 'fit'}, 'large': {'w': 1536, 'h': 2048, 'resize': 'fit'}}}]}, extended_entities={'media': [{'id': 1384106166674853894, 'id_str': '1384106166674853894', 'indices': [188, 211], 'media_url': 'http://pbs.twimg.com/media/EzVVOawVEAYfVO3.jpg', 'media_url_https': 'https://pbs.twimg.com/media/EzVVOawVEAYfVO3.jpg', 'url': 'https://t.co/iita4Mps3d', 'display_url': 'pic.twitter.com/iita4Mps3d', 'expanded_url': 'https://twitter.com/JoanKeating2/status/1384106181707268100/photo/1', 'type': 'photo', 'sizes': {'thumb': {'w': 150, 'h': 150, 'resize': 'crop'}, 'small': {'w': 510, 'h': 680, 'resize': 'fit'}, 'medium': {'w': 900, 'h': 1200, 'resize': 'fit'}, 'large': {'w': 1536, 'h': 2048, 'resize': 'fit'}}}, {'id': 1384106176925769733, 'id_str': '1384106176925769733', 'indices': [188, 211], 'media_url': 'http://pbs.twimg.com/media/EzVVPA8VoAUcIQ3.jpg', 'media_url_https': 'https://pbs.twimg.com/media/EzVVPA8VoAUcIQ3.jpg', 'url': 'https://t.co/iita4Mps3d', 'display_url': 'pic.twitter.com/iita4Mps3d', 'expanded_url': 'https://twitter.com/JoanKeating2/status/1384106181707268100/photo/1', 'type': 'photo', 'sizes': {'small': {'w': 510, 'h': 680, 'resize': 'fit'}, 'thumb': {'w': 150, 'h': 150, 'resize': 'crop'}, 'large': {'w': 1536, 'h': 2048, 'resize': 'fit'}, 'medium': {'w': 900, 'h': 1200, 'resize': 'fit'}}}]}, metadata={'iso_language_code': 'en', 'result_type': 'recent'}, source='Twitter for Android', source_url='http://twitter.com/download/android', in_reply_to_status_id=None, in_reply_to_status_id_str=None, in_reply_to_user_id=None, in_reply_to_user_id_str=None, in_reply_to_screen_name=None, author=User(_api=<tweepy.api.API object at 0x11b5f3130>, _json={'id': 537400056, 'id_str': '537400056', 'name': 'Dr Joan Keating', 'screen_name': 'JoanKeating2', 'location': 'Stratford E15', 'description': 'Tweets reflect the lifelong interests I have as a result of a Textiles degree at UMIST (1984) and Politics PhD at Manchester (1992) about Catholics and Labour.', 'url': None, 'entities': {'description': {'urls': []}}, 'protected': False, 'followers_count': 698, 'friends_count': 1272, 'listed_count': 13, 'created_at': 'Mon Mar 26 15:39:37 +0000 2012', 'favourites_count': 14507, 'utc_offset': None, 'time_zone': None, 'geo_enabled': False, 'verified': False, 'statuses_count': 7123, 'lang': None, 'contributors_enabled': False, 'is_translator': False, 'is_translation_enabled': False, 'profile_background_color': 'C0DEED', 'profile_background_image_url': 'http://abs.twimg.com/images/themes/theme1/bg.png', 'profile_background_image_url_https': 'https://abs.twimg.com/images/themes/theme1/bg.png', 'profile_background_tile': False, 'profile_image_url': 'http://pbs.twimg.com/profile_images/1195682998101958656/VtAsZPbe_normal.jpg', 'profile_image_url_https': 'https://pbs.twimg.com/profile_images/1195682998101958656/VtAsZPbe_normal.jpg', 'profile_link_color': '1DA1F2', 'profile_sidebar_border_color': 'C0DEED', 'profile_sidebar_fill_color': 'DDEEF6', 'profile_text_color': '333333', 'profile_use_background_image': True, 'has_extended_profile': False, 'default_profile': True, 'default_profile_image': False, 'following': False, 'follow_request_sent': False, 'notifications': False, 'translator_type': 'none'}, id=537400056, id_str='537400056', name='Dr Joan Keating', screen_name='JoanKeating2', location='Stratford E15', description='Tweets reflect the lifelong interests I have as a result of a Textiles degree at UMIST (1984) and Politics PhD at Manchester (1992) about Catholics and Labour.', url=None, entities={'description': {'urls': []}}, protected=False, followers_count=698, friends_count=1272, listed_count=13, created_at=datetime.datetime(2012, 3, 26, 15, 39, 37), favourites_count=14507, utc_offset=None, time_zone=None, geo_enabled=False, verified=False, statuses_count=7123, lang=None, contributors_enabled=False, is_translator=False, is_translation_enabled=False, profile_background_color='C0DEED', profile_background_image_url='http://abs.twimg.com/images/themes/theme1/bg.png', profile_background_image_url_https='https://abs.twimg.com/images/themes/theme1/bg.png', profile_background_tile=False, profile_image_url='http://pbs.twimg.com/profile_images/1195682998101958656/VtAsZPbe_normal.jpg', profile_image_url_https='https://pbs.twimg.com/profile_images/1195682998101958656/VtAsZPbe_normal.jpg', profile_link_color='1DA1F2', profile_sidebar_border_color='C0DEED', profile_sidebar_fill_color='DDEEF6', profile_text_color='333333', profile_use_background_image=True, has_extended_profile=False, default_profile=True, default_profile_image=False, following=False, follow_request_sent=False, notifications=False, translator_type='none'), user=User(_api=<tweepy.api.API object at 0x11b5f3130>, _json={'id': 537400056, 'id_str': '537400056', 'name': 'Dr Joan Keating', 'screen_name': 'JoanKeating2', 'location': 'Stratford E15', 'description': 'Tweets reflect the lifelong interests I have as a result of a Textiles degree at UMIST (1984) and Politics PhD at Manchester (1992) about Catholics and Labour.', 'url': None, 'entities': {'description': {'urls': []}}, 'protected': False, 'followers_count': 698, 'friends_count': 1272, 'listed_count': 13, 'created_at': 'Mon Mar 26 15:39:37 +0000 2012', 'favourites_count': 14507, 'utc_offset': None, 'time_zone': None, 'geo_enabled': False, 'verified': False, 'statuses_count': 7123, 'lang': None, 'contributors_enabled': False, 'is_translator': False, 'is_translation_enabled': False, 'profile_background_color': 'C0DEED', 'profile_background_image_url': 'http://abs.twimg.com/images/themes/theme1/bg.png', 'profile_background_image_url_https': 'https://abs.twimg.com/images/themes/theme1/bg.png', 'profile_background_tile': False, 'profile_image_url': 'http://pbs.twimg.com/profile_images/1195682998101958656/VtAsZPbe_normal.jpg', 'profile_image_url_https': 'https://pbs.twimg.com/profile_images/1195682998101958656/VtAsZPbe_normal.jpg', 'profile_link_color': '1DA1F2', 'profile_sidebar_border_color': 'C0DEED', 'profile_sidebar_fill_color': 'DDEEF6', 'profile_text_color': '333333', 'profile_use_background_image': True, 'has_extended_profile': False, 'default_profile': True, 'default_profile_image': False, 'following': False, 'follow_request_sent': False, 'notifications': False, 'translator_type': 'none'}, id=537400056, id_str='537400056', name='Dr Joan Keating', screen_name='JoanKeating2', location='Stratford E15', description='Tweets reflect the lifelong interests I have as a result of a Textiles degree at UMIST (1984) and Politics PhD at Manchester (1992) about Catholics and Labour.', url=None, entities={'description': {'urls': []}}, protected=False, followers_count=698, friends_count=1272, listed_count=13, created_at=datetime.datetime(2012, 3, 26, 15, 39, 37), favourites_count=14507, utc_offset=None, time_zone=None, geo_enabled=False, verified=False, statuses_count=7123, lang=None, contributors_enabled=False, is_translator=False, is_translation_enabled=False, profile_background_color='C0DEED', profile_background_image_url='http://abs.twimg.com/images/themes/theme1/bg.png', profile_background_image_url_https='https://abs.twimg.com/images/themes/theme1/bg.png', profile_background_tile=False, profile_image_url='http://pbs.twimg.com/profile_images/1195682998101958656/VtAsZPbe_normal.jpg', profile_image_url_https='https://pbs.twimg.com/profile_images/1195682998101958656/VtAsZPbe_normal.jpg', profile_link_color='1DA1F2', profile_sidebar_border_color='C0DEED', profile_sidebar_fill_color='DDEEF6', profile_text_color='333333', profile_use_background_image=True, has_extended_profile=False, default_profile=True, default_profile_image=False, following=False, follow_request_sent=False, notifications=False, translator_type='none'), geo=None, coordinates=None, place=None, contributors=None, is_quote_status=False, retweet_count=0, favorite_count=6, favorited=False, retweeted=False, possibly_sensitive=False, lang='en')\n"
     ]
    }
   ],
   "source": [
    "for index in range(len(stations[:number_of_stations])):\n",
    "    for i in tweepy.Cursor(api.search, q = 'london', lang = 'en', tweet_mode='extended', geocode= \\\n",
    "                           str(stations['Latitude'][index])+','+str(stations['Longitude'][index])+',1km').\\\n",
    "        items(number_of_tweets):\n",
    "        print(i)"
   ]
  },
  {
   "cell_type": "code",
   "execution_count": 20,
   "metadata": {},
   "outputs": [
    {
     "ename": "AttributeError",
     "evalue": "type object 'Cursor' has no attribute 'results'",
     "output_type": "error",
     "traceback": [
      "\u001b[0;31m---------------------------------------------------------------------------\u001b[0m",
      "\u001b[0;31mAttributeError\u001b[0m                            Traceback (most recent call last)",
      "\u001b[0;32m<ipython-input-20-fd879482322b>\u001b[0m in \u001b[0;36m<module>\u001b[0;34m\u001b[0m\n\u001b[0;32m----> 1\u001b[0;31m \u001b[0mprint\u001b[0m\u001b[0;34m(\u001b[0m\u001b[0mtweepy\u001b[0m\u001b[0;34m.\u001b[0m\u001b[0mCursor\u001b[0m\u001b[0;34m.\u001b[0m\u001b[0mresults\u001b[0m\u001b[0;34m)\u001b[0m\u001b[0;34m\u001b[0m\u001b[0;34m\u001b[0m\u001b[0m\n\u001b[0m",
      "\u001b[0;31mAttributeError\u001b[0m: type object 'Cursor' has no attribute 'results'"
     ]
    }
   ],
   "source": [
    "print(tweepy.Cursor.results)"
   ]
  },
  {
   "cell_type": "code",
   "execution_count": 29,
   "metadata": {},
   "outputs": [],
   "source": [
    "df = pd.DataFrame({'tweets': tweets, 'date':date, 'station': station})"
   ]
  },
  {
   "cell_type": "code",
   "execution_count": 31,
   "metadata": {},
   "outputs": [
    {
     "data": {
      "text/html": [
       "<div>\n",
       "<style scoped>\n",
       "    .dataframe tbody tr th:only-of-type {\n",
       "        vertical-align: middle;\n",
       "    }\n",
       "\n",
       "    .dataframe tbody tr th {\n",
       "        vertical-align: top;\n",
       "    }\n",
       "\n",
       "    .dataframe thead th {\n",
       "        text-align: right;\n",
       "    }\n",
       "</style>\n",
       "<table border=\"1\" class=\"dataframe\">\n",
       "  <thead>\n",
       "    <tr style=\"text-align: right;\">\n",
       "      <th></th>\n",
       "      <th>tweets</th>\n",
       "      <th>date</th>\n",
       "      <th>station</th>\n",
       "    </tr>\n",
       "  </thead>\n",
       "  <tbody>\n",
       "    <tr>\n",
       "      <th>0</th>\n",
       "      <td>In #Newham today, was great to meet with the l...</td>\n",
       "      <td>2021-04-20 20:15:20</td>\n",
       "      <td>Abbey Road</td>\n",
       "    </tr>\n",
       "    <tr>\n",
       "      <th>1</th>\n",
       "      <td>While there is massive upheaval going on in th...</td>\n",
       "      <td>2021-04-19 11:26:43</td>\n",
       "      <td>Abbey Road</td>\n",
       "    </tr>\n",
       "    <tr>\n",
       "      <th>2</th>\n",
       "      <td>Just posted a photo @ Abbey Wood, London, SE2 ...</td>\n",
       "      <td>2021-04-20 07:00:25</td>\n",
       "      <td>Abbey Wood</td>\n",
       "    </tr>\n",
       "    <tr>\n",
       "      <th>3</th>\n",
       "      <td>Walking on the wild side #LondonBridge #TowerB...</td>\n",
       "      <td>2021-04-21 16:20:23</td>\n",
       "      <td>Acton Central</td>\n",
       "    </tr>\n",
       "    <tr>\n",
       "      <th>4</th>\n",
       "      <td>Just posted a video @ Bedford Park, London htt...</td>\n",
       "      <td>2021-04-19 17:03:53</td>\n",
       "      <td>Acton Central</td>\n",
       "    </tr>\n",
       "    <tr>\n",
       "      <th>5</th>\n",
       "      <td>Walking on the wild side #LondonBridge #TowerB...</td>\n",
       "      <td>2021-04-21 16:20:23</td>\n",
       "      <td>Acton Main Line</td>\n",
       "    </tr>\n",
       "    <tr>\n",
       "      <th>6</th>\n",
       "      <td>Can you recommend anyone for this job in #Lond...</td>\n",
       "      <td>2021-04-25 15:43:15</td>\n",
       "      <td>Acton Town</td>\n",
       "    </tr>\n",
       "    <tr>\n",
       "      <th>7</th>\n",
       "      <td>See our latest #London, England #Engineering j...</td>\n",
       "      <td>2021-04-25 12:31:25</td>\n",
       "      <td>Acton Town</td>\n",
       "    </tr>\n",
       "    <tr>\n",
       "      <th>8</th>\n",
       "      <td>If you're looking for work in #London, check o...</td>\n",
       "      <td>2021-04-22 12:15:30</td>\n",
       "      <td>Acton Town</td>\n",
       "    </tr>\n",
       "    <tr>\n",
       "      <th>9</th>\n",
       "      <td>You want to work with Intelsat? Good news... w...</td>\n",
       "      <td>2021-04-20 12:54:59</td>\n",
       "      <td>Acton Town</td>\n",
       "    </tr>\n",
       "    <tr>\n",
       "      <th>10</th>\n",
       "      <td>This is what #dawn looks like for those who ha...</td>\n",
       "      <td>2021-04-20 08:54:44</td>\n",
       "      <td>Acton Town</td>\n",
       "    </tr>\n",
       "    <tr>\n",
       "      <th>11</th>\n",
       "      <td>Walking from the weekend into Monday...\\n\\n#Lo...</td>\n",
       "      <td>2021-04-25 22:10:48</td>\n",
       "      <td>Aldgate</td>\n",
       "    </tr>\n",
       "    <tr>\n",
       "      <th>12</th>\n",
       "      <td>A Day in London 🇬🇧 \\n\\n#london🇬🇧 #dayout #lond...</td>\n",
       "      <td>2021-04-25 21:48:38</td>\n",
       "      <td>Aldgate</td>\n",
       "    </tr>\n",
       "    <tr>\n",
       "      <th>13</th>\n",
       "      <td>Just posted a photo @ Tower Bridge https://t.c...</td>\n",
       "      <td>2021-04-25 15:00:19</td>\n",
       "      <td>Aldgate</td>\n",
       "    </tr>\n",
       "    <tr>\n",
       "      <th>14</th>\n",
       "      <td>.\\nDots &amp;amp; shadows \\n.\\n.\\n#plaguedaze #dot...</td>\n",
       "      <td>2021-04-25 14:08:14</td>\n",
       "      <td>Aldgate</td>\n",
       "    </tr>\n",
       "    <tr>\n",
       "      <th>15</th>\n",
       "      <td>Just posted a photo @ Brick Lane East London h...</td>\n",
       "      <td>2021-04-25 14:06:26</td>\n",
       "      <td>Aldgate</td>\n",
       "    </tr>\n",
       "    <tr>\n",
       "      <th>16</th>\n",
       "      <td>A Day in London 🇬🇧 \\n\\n#london🇬🇧 #dayout #lond...</td>\n",
       "      <td>2021-04-25 21:48:38</td>\n",
       "      <td>Aldgate East</td>\n",
       "    </tr>\n",
       "    <tr>\n",
       "      <th>17</th>\n",
       "      <td>.\\nDots &amp;amp; shadows \\n.\\n.\\n#plaguedaze #dot...</td>\n",
       "      <td>2021-04-25 14:08:14</td>\n",
       "      <td>Aldgate East</td>\n",
       "    </tr>\n",
       "    <tr>\n",
       "      <th>18</th>\n",
       "      <td>Just posted a photo @ Brick Lane East London h...</td>\n",
       "      <td>2021-04-25 14:06:26</td>\n",
       "      <td>Aldgate East</td>\n",
       "    </tr>\n",
       "    <tr>\n",
       "      <th>19</th>\n",
       "      <td>I'm at Allen Gardens in Shoreditch, Greater Lo...</td>\n",
       "      <td>2021-04-25 10:33:59</td>\n",
       "      <td>Aldgate East</td>\n",
       "    </tr>\n",
       "    <tr>\n",
       "      <th>20</th>\n",
       "      <td>I'm at Brick Lane Market in London, Greater Lo...</td>\n",
       "      <td>2021-04-25 10:19:00</td>\n",
       "      <td>Aldgate East</td>\n",
       "    </tr>\n",
       "    <tr>\n",
       "      <th>21</th>\n",
       "      <td>@CFCMod_ You haven't even got any support in L...</td>\n",
       "      <td>2021-04-25 09:03:19</td>\n",
       "      <td>Alexandra Palace</td>\n",
       "    </tr>\n",
       "    <tr>\n",
       "      <th>22</th>\n",
       "      <td>An eerily quiet Kings X tube station.\\nLondon ...</td>\n",
       "      <td>2021-04-20 07:35:52</td>\n",
       "      <td>Alexandra Palace</td>\n",
       "    </tr>\n",
       "    <tr>\n",
       "      <th>23</th>\n",
       "      <td>Pints+brother+sunshine=happydays!\\n.\\n.\\n.\\n.\\...</td>\n",
       "      <td>2021-04-18 16:22:13</td>\n",
       "      <td>Alexandra Palace</td>\n",
       "    </tr>\n",
       "    <tr>\n",
       "      <th>24</th>\n",
       "      <td>Just posted a photo @ East London - Docklands ...</td>\n",
       "      <td>2021-04-23 22:03:53</td>\n",
       "      <td>All Saints</td>\n",
       "    </tr>\n",
       "    <tr>\n",
       "      <th>25</th>\n",
       "      <td>Another great job @ldn_grace ❤️ I missed you 😂...</td>\n",
       "      <td>2021-04-23 11:17:27</td>\n",
       "      <td>All Saints</td>\n",
       "    </tr>\n",
       "    <tr>\n",
       "      <th>26</th>\n",
       "      <td>If you're looking for work in #London, check o...</td>\n",
       "      <td>2021-04-20 11:08:07</td>\n",
       "      <td>All Saints</td>\n",
       "    </tr>\n",
       "    <tr>\n",
       "      <th>27</th>\n",
       "      <td>Wonderful overdue catch-up! (@ BrewDog Canary ...</td>\n",
       "      <td>2021-04-19 18:11:08</td>\n",
       "      <td>All Saints</td>\n",
       "    </tr>\n",
       "    <tr>\n",
       "      <th>28</th>\n",
       "      <td>Just posted a photo @ London Marriott Hotel Ca...</td>\n",
       "      <td>2021-04-19 17:16:52</td>\n",
       "      <td>All Saints</td>\n",
       "    </tr>\n",
       "    <tr>\n",
       "      <th>29</th>\n",
       "      <td>I'm at @TheGymGroup in Wembley, Greater London...</td>\n",
       "      <td>2021-04-25 08:07:16</td>\n",
       "      <td>Alperton</td>\n",
       "    </tr>\n",
       "  </tbody>\n",
       "</table>\n",
       "</div>"
      ],
      "text/plain": [
       "                                               tweets                date  \\\n",
       "0   In #Newham today, was great to meet with the l... 2021-04-20 20:15:20   \n",
       "1   While there is massive upheaval going on in th... 2021-04-19 11:26:43   \n",
       "2   Just posted a photo @ Abbey Wood, London, SE2 ... 2021-04-20 07:00:25   \n",
       "3   Walking on the wild side #LondonBridge #TowerB... 2021-04-21 16:20:23   \n",
       "4   Just posted a video @ Bedford Park, London htt... 2021-04-19 17:03:53   \n",
       "5   Walking on the wild side #LondonBridge #TowerB... 2021-04-21 16:20:23   \n",
       "6   Can you recommend anyone for this job in #Lond... 2021-04-25 15:43:15   \n",
       "7   See our latest #London, England #Engineering j... 2021-04-25 12:31:25   \n",
       "8   If you're looking for work in #London, check o... 2021-04-22 12:15:30   \n",
       "9   You want to work with Intelsat? Good news... w... 2021-04-20 12:54:59   \n",
       "10  This is what #dawn looks like for those who ha... 2021-04-20 08:54:44   \n",
       "11  Walking from the weekend into Monday...\\n\\n#Lo... 2021-04-25 22:10:48   \n",
       "12  A Day in London 🇬🇧 \\n\\n#london🇬🇧 #dayout #lond... 2021-04-25 21:48:38   \n",
       "13  Just posted a photo @ Tower Bridge https://t.c... 2021-04-25 15:00:19   \n",
       "14  .\\nDots &amp; shadows \\n.\\n.\\n#plaguedaze #dot... 2021-04-25 14:08:14   \n",
       "15  Just posted a photo @ Brick Lane East London h... 2021-04-25 14:06:26   \n",
       "16  A Day in London 🇬🇧 \\n\\n#london🇬🇧 #dayout #lond... 2021-04-25 21:48:38   \n",
       "17  .\\nDots &amp; shadows \\n.\\n.\\n#plaguedaze #dot... 2021-04-25 14:08:14   \n",
       "18  Just posted a photo @ Brick Lane East London h... 2021-04-25 14:06:26   \n",
       "19  I'm at Allen Gardens in Shoreditch, Greater Lo... 2021-04-25 10:33:59   \n",
       "20  I'm at Brick Lane Market in London, Greater Lo... 2021-04-25 10:19:00   \n",
       "21  @CFCMod_ You haven't even got any support in L... 2021-04-25 09:03:19   \n",
       "22  An eerily quiet Kings X tube station.\\nLondon ... 2021-04-20 07:35:52   \n",
       "23  Pints+brother+sunshine=happydays!\\n.\\n.\\n.\\n.\\... 2021-04-18 16:22:13   \n",
       "24  Just posted a photo @ East London - Docklands ... 2021-04-23 22:03:53   \n",
       "25  Another great job @ldn_grace ❤️ I missed you 😂... 2021-04-23 11:17:27   \n",
       "26  If you're looking for work in #London, check o... 2021-04-20 11:08:07   \n",
       "27  Wonderful overdue catch-up! (@ BrewDog Canary ... 2021-04-19 18:11:08   \n",
       "28  Just posted a photo @ London Marriott Hotel Ca... 2021-04-19 17:16:52   \n",
       "29  I'm at @TheGymGroup in Wembley, Greater London... 2021-04-25 08:07:16   \n",
       "\n",
       "             station  \n",
       "0         Abbey Road  \n",
       "1         Abbey Road  \n",
       "2         Abbey Wood  \n",
       "3      Acton Central  \n",
       "4      Acton Central  \n",
       "5    Acton Main Line  \n",
       "6         Acton Town  \n",
       "7         Acton Town  \n",
       "8         Acton Town  \n",
       "9         Acton Town  \n",
       "10        Acton Town  \n",
       "11           Aldgate  \n",
       "12           Aldgate  \n",
       "13           Aldgate  \n",
       "14           Aldgate  \n",
       "15           Aldgate  \n",
       "16      Aldgate East  \n",
       "17      Aldgate East  \n",
       "18      Aldgate East  \n",
       "19      Aldgate East  \n",
       "20      Aldgate East  \n",
       "21  Alexandra Palace  \n",
       "22  Alexandra Palace  \n",
       "23  Alexandra Palace  \n",
       "24        All Saints  \n",
       "25        All Saints  \n",
       "26        All Saints  \n",
       "27        All Saints  \n",
       "28        All Saints  \n",
       "29          Alperton  "
      ]
     },
     "execution_count": 31,
     "metadata": {},
     "output_type": "execute_result"
    }
   ],
   "source": [
    "df"
   ]
  },
  {
   "cell_type": "code",
   "execution_count": 30,
   "metadata": {},
   "outputs": [],
   "source": [
    "df.to_csv('test.csv', encoding = 'utf-8')"
   ]
  },
  {
   "cell_type": "code",
   "execution_count": 59,
   "metadata": {},
   "outputs": [],
   "source": [
    "# pyspark modules\n",
    "from pyspark.sql import SparkSession\n",
    "from textblob import TextBlob\n",
    "from pyspark.sql.functions import udf"
   ]
  },
  {
   "cell_type": "code",
   "execution_count": 60,
   "metadata": {
    "scrolled": true
   },
   "outputs": [
    {
     "name": "stdout",
     "output_type": "stream",
     "text": [
      "Requirement already satisfied: vaderSentiment in /Users/christopherkindl/opt/anaconda3/lib/python3.8/site-packages (3.3.2)\n",
      "Requirement already satisfied: requests in /Users/christopherkindl/opt/anaconda3/lib/python3.8/site-packages (from vaderSentiment) (2.24.0)\n",
      "Requirement already satisfied: certifi>=2017.4.17 in /Users/christopherkindl/opt/anaconda3/lib/python3.8/site-packages (from requests->vaderSentiment) (2020.6.20)\n",
      "Requirement already satisfied: idna<3,>=2.5 in /Users/christopherkindl/opt/anaconda3/lib/python3.8/site-packages (from requests->vaderSentiment) (2.10)\n",
      "Requirement already satisfied: urllib3!=1.25.0,!=1.25.1,<1.26,>=1.21.1 in /Users/christopherkindl/opt/anaconda3/lib/python3.8/site-packages (from requests->vaderSentiment) (1.25.9)\n",
      "Requirement already satisfied: chardet<4,>=3.0.2 in /Users/christopherkindl/opt/anaconda3/lib/python3.8/site-packages (from requests->vaderSentiment) (3.0.4)\n",
      "\u001b[33mWARNING: You are using pip version 20.2.4; however, version 21.1 is available.\n",
      "You should consider upgrading via the '/Users/christopherkindl/opt/anaconda3/bin/python -m pip install --upgrade pip' command.\u001b[0m\n"
     ]
    }
   ],
   "source": [
    "!pip install vaderSentiment"
   ]
  },
  {
   "cell_type": "code",
   "execution_count": null,
   "metadata": {},
   "outputs": [],
   "source": [
    "def apply_blob(sentence):\n",
    "    temp = TextBlob(sentence).sentiment[0]\n",
    "    if temp == 0.0:\n",
    "        return 0.0 # Neutral\n",
    "    elif temp >= 0.0:\n",
    "        return 1.0 # Positive\n",
    "    else:\n",
    "        return 2.0 # Negative"
   ]
  },
  {
   "cell_type": "code",
   "execution_count": 61,
   "metadata": {},
   "outputs": [],
   "source": [
    "from vaderSentiment.vaderSentiment import SentimentIntensityAnalyzer\n",
    "analyzer = SentimentIntensityAnalyzer()"
   ]
  },
  {
   "cell_type": "code",
   "execution_count": null,
   "metadata": {},
   "outputs": [],
   "source": [
    "for sentence in sentences:\n",
    "    vs = analyzer.polarity_scores(sentence)"
   ]
  },
  {
   "cell_type": "code",
   "execution_count": 63,
   "metadata": {},
   "outputs": [],
   "source": [
    "sentence = 'Make sure that you dont sound to cooperate!'\n",
    "vs = analyzer.polarity_scores(sentence)"
   ]
  },
  {
   "cell_type": "code",
   "execution_count": 71,
   "metadata": {},
   "outputs": [
    {
     "data": {
      "text/plain": [
       "{'neg': 0.0, 'neu': 0.73, 'pos': 0.27, 'compound': 0.3802}"
      ]
     },
     "execution_count": 71,
     "metadata": {},
     "output_type": "execute_result"
    }
   ],
   "source": [
    "vs"
   ]
  },
  {
   "cell_type": "code",
   "execution_count": 90,
   "metadata": {},
   "outputs": [],
   "source": [
    "def apply_vader(sentence):\n",
    "    vs = analyzer.polarity_scores(sentence)    \n",
    "    return float(round(vs.get('compound'), 2))\n",
    "\n",
    "# assign sentiment function as an user defined function\n",
    "sentiment = udf(apply_vader)"
   ]
  },
  {
   "cell_type": "code",
   "execution_count": 91,
   "metadata": {},
   "outputs": [
    {
     "name": "stdout",
     "output_type": "stream",
     "text": [
      "+---+--------------------+-------------------+-------------+---------+\n",
      "|_c0|              tweets|               date|      station|sentiment|\n",
      "+---+--------------------+-------------------+-------------+---------+\n",
      "|  0|In #Newham today,...|2021-04-20 20:15:20|   Abbey Road|     0.62|\n",
      "|  1|While there is ma...|2021-04-19 11:26:43|   Abbey Road|     0.42|\n",
      "|  2|Just posted a pho...|2021-04-20 07:00:25|   Abbey Wood|      0.0|\n",
      "|  3|Walking on the wi...|2021-04-21 16:20:23|Acton Central|      0.0|\n",
      "|  4|Just posted a vid...|2021-04-19 17:03:53|Acton Central|      0.0|\n",
      "+---+--------------------+-------------------+-------------+---------+\n",
      "\n"
     ]
    }
   ],
   "source": [
    "spark = SparkSession.builder.appName('SentimentAnalysis').getOrCreate()\n",
    "df_raw = spark.read.option('header', True).csv('/Users/christopherkindl/working/twitter_output_1.csv')\n",
    "df_clean = df_raw.withColumn('sentiment', sentiment(df_raw['tweets']))\n",
    "df_clean.show()"
   ]
  },
  {
   "cell_type": "code",
   "execution_count": 76,
   "metadata": {},
   "outputs": [],
   "source": [
    "df_raw = spark.read.option('header', True).csv('/Users/christopherkindl/working/twitter_output_1.csv')"
   ]
  },
  {
   "cell_type": "code",
   "execution_count": 104,
   "metadata": {},
   "outputs": [],
   "source": [
    "# convert to pandas df first to avoid folder creation which happens when using spark csv function and export to csv\n",
    "header = [\"tweets\", \"date\", \"station\", \"sentiment\"]\n",
    "df_clean.toPandas().to_csv('/Users/christopherkindl/desktop/twitter_output_20.csv', columns = header, index = False)"
   ]
  },
  {
   "cell_type": "code",
   "execution_count": 96,
   "metadata": {},
   "outputs": [],
   "source": [
    "df_clean.write.option(\"header\", \"true\").csv('/Users/christopherkindl/desktop/twitter_output_6.csv')"
   ]
  },
  {
   "cell_type": "code",
   "execution_count": null,
   "metadata": {},
   "outputs": [],
   "source": [
    "import pyarrow.parquet as pq"
   ]
  },
  {
   "cell_type": "code",
   "execution_count": null,
   "metadata": {},
   "outputs": [],
   "source": []
  }
 ],
 "metadata": {
  "kernelspec": {
   "display_name": "Python 3",
   "language": "python",
   "name": "python3"
  },
  "language_info": {
   "codemirror_mode": {
    "name": "ipython",
    "version": 3
   },
   "file_extension": ".py",
   "mimetype": "text/x-python",
   "name": "python",
   "nbconvert_exporter": "python",
   "pygments_lexer": "ipython3",
   "version": "3.8.3"
  }
 },
 "nbformat": 4,
 "nbformat_minor": 4
}
